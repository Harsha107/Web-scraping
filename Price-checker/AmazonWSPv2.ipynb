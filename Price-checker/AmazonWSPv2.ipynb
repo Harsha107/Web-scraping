{
 "cells": [
  {
   "cell_type": "code",
   "execution_count": 1,
   "id": "51554191",
   "metadata": {},
   "outputs": [],
   "source": [
    "from bs4 import BeautifulSoup\n",
    "import requests\n",
    "import smtplib\n",
    "import time\n",
    "import datetime"
   ]
  },
  {
   "cell_type": "code",
   "execution_count": 4,
   "id": "06f28bea",
   "metadata": {},
   "outputs": [
    {
     "name": "stdout",
     "output_type": "stream",
     "text": [
      "\n",
      "             Baytion Mechanical Gaming Keyboard, 82 Keys 75% Compact Gaming Keyboard with Rainbow LED Backlit Wired Anti-Ghosting Mechanical Keyboard with Knob for Windows and Mac, White(Red Switches）\n",
      "            \n",
      "\n",
      "                           AED80.99\n",
      "                          \n",
      "\n",
      "                 5.0 out of 5 stars\n",
      "                \n"
     ]
    }
   ],
   "source": [
    "custom_headers = {\"User-Agent\": \"Mozilla/5.0 (Windows NT 10.0; Win64; x64) AppleWebKit/537.36 (KHTML, like Gecko) Chrome/130.0.0.0 Safari/537.36\", \"Accept-Encoding\":\"gzip, deflate\", \"Accept\":\"text/html,application/xhtml+xml,application/xml;q=0.9,*/*;q=0.8\", \"DNT\":\"1\",\"Connection\":\"close\", \"Upgrade-Insecure-Requests\":\"1\"}\n",
    "\n",
    "url = 'https://www.amazon.ae/Baytion-Mechanical-Keyboard-Anti-Ghosting-Switches%EF%BC%89/dp/B0D28RPHRP?pf_rd_p=caf15a41-60e3-4020-9091-3c3d8e8a6805&pf_rd_r=HT64CQEQE88KNBCYYKH1&sbo=RZvfv%2F%2FHxDF%2BO5021pAnSA%3D%3D'\n",
    "\n",
    "page = requests.get(url, headers=custom_headers)\n",
    "\n",
    "soup1 = BeautifulSoup(page.content, \"html.parser\")\n",
    "\n",
    "soup2 = BeautifulSoup(soup1.prettify(), \"html.parser\")\n",
    "\n",
    "title = soup2.find(id='productTitle').get_text()\n",
    "price = soup2.find(class_='a-offscreen').get_text()\n",
    "ratings = soup2.find(class_='a-icon-alt').get_text()\n",
    "\n",
    "print(title)\n",
    "print(price)\n",
    "print(ratings)"
   ]
  },
  {
   "cell_type": "code",
   "execution_count": 5,
   "id": "0f685206",
   "metadata": {},
   "outputs": [
    {
     "name": "stdout",
     "output_type": "stream",
     "text": [
      "5.0\n"
     ]
    }
   ],
   "source": [
    "title = title.strip()\n",
    "price = price.strip()[3:]\n",
    "ratings = ratings.strip()[0:3]\n",
    "\n",
    "print(ratings)"
   ]
  },
  {
   "cell_type": "code",
   "execution_count": 6,
   "id": "cd85b599",
   "metadata": {},
   "outputs": [],
   "source": [
    "import csv\n",
    "\n",
    "today = datetime.date.today()\n",
    "headers = ['Title', 'Price', 'Rating', 'Date']\n",
    "data = [title, price, ratings, today]\n",
    "\n",
    "#with open('AmazonWSP.csv', 'w', newline='', encoding='UTF8') as f:\n",
    "    #writer = csv.writer(f)\n",
    "    #writer.writerow(headers)\n",
    "    #writer.writerow(data)"
   ]
  },
  {
   "cell_type": "code",
   "execution_count": 7,
   "id": "f4957758",
   "metadata": {},
   "outputs": [
    {
     "name": "stdout",
     "output_type": "stream",
     "text": [
      "                                               Title  Price  Rating  \\\n",
      "0  Baytion Mechanical Gaming Keyboard, 82 Keys 75...  80.99     5.0   \n",
      "\n",
      "         Date  \n",
      "0  2024-11-03  \n"
     ]
    }
   ],
   "source": [
    "import pandas as pd\n",
    "\n",
    "dataFrame = pd.read_csv('AmazonWSP.csv')\n",
    "\n",
    "print(dataFrame)"
   ]
  },
  {
   "cell_type": "code",
   "execution_count": 9,
   "id": "47696669",
   "metadata": {},
   "outputs": [],
   "source": [
    "def send_mail():\n",
    "    server = smtplib.SMTP_SSL('smtp.gmail.com', 465)\n",
    "    server.ehlo()\n",
    "    server.login('Lane89@gmail.com', 'Lane89ismyname')\n",
    "    subject = \"The mechanical keyboard you are trying to buy is belwo AED70! Now is your chance to buy!\"\n",
    "    body = \"Lane, the Baytion Mechanical Keyboard that you have been wanting to buy is currently on sale. It is currently listed under AED70 in Amazon. Now is your chance to buy this! Link here: https://www.amazon.ae/Baytion-Mechanical-Keyboard-Anti-Ghosting-Switches%EF%BC%89/dp/B0D28RPHRP?pf_rd_p=caf15a41-60e3-4020-9091-3c3d8e8a6805&pf_rd_r=HT64CQEQE88KNBCYYKH1&sbo=RZvfv%2F%2FHxDF%2BO5021pAnSA%3D%3D\"\n",
    "    \n",
    "    msg = f\"Subject: {subject}\\n\\n{body}\"\n",
    "    \n",
    "    server.sendmail('Lane89@gmail.com', msg)"
   ]
  },
  {
   "cell_type": "code",
   "execution_count": 10,
   "id": "491e9cb1",
   "metadata": {},
   "outputs": [],
   "source": [
    "def check_price():\n",
    "    custom_headers = {\"User-Agent\": \"Mozilla/5.0 (Windows NT 10.0; Win64; x64) AppleWebKit/537.36 (KHTML, like Gecko) Chrome/130.0.0.0 Safari/537.36\", \"Accept-Encoding\":\"gzip, deflate\", \"Accept\":\"text/html,application/xhtml+xml,application/xml;q=0.9,*/*;q=0.8\", \"DNT\":\"1\",\"Connection\":\"close\", \"Upgrade-Insecure-Requests\":\"1\"}\n",
    "    \n",
    "    url = 'https://www.amazon.ae/Baytion-Mechanical-Keyboard-Anti-Ghosting-Switches%EF%BC%89/dp/B0D28RPHRP?pf_rd_p=caf15a41-60e3-4020-9091-3c3d8e8a6805&pf_rd_r=HT64CQEQE88KNBCYYKH1&sbo=RZvfv%2F%2FHxDF%2BO5021pAnSA%3D%3D'\n",
    "    \n",
    "    page = requests.get(url, headers=custom_headers)\n",
    "    \n",
    "    soup1 = BeautifulSoup(page.content, \"html.parser\")\n",
    "    soup2 = BeautifulSoup(soup1.prettify(), \"html.parser\")\n",
    "    \n",
    "    title = soup2.find(id='productTitle').get_text()\n",
    "    price = soup2.find(class_='a-offscreen').get_text()\n",
    "    ratings = soup2.find(class_='a-icon-alt').get_text()\n",
    "    \n",
    "    today = datetime.date.today()\n",
    "    headers = ['Title', 'Price', 'Rating', 'Date']\n",
    "    data = [title, price, ratings, today]\n",
    "    \n",
    "    with open('AmazonWSP.csv', 'a+', newline='', encoding='UTF8') as f:\n",
    "        writer = csv.writer(f)\n",
    "        writer.writerow(data)\n",
    "        \n",
    "    if(price < 70):\n",
    "        send_mail()"
   ]
  },
  {
   "cell_type": "code",
   "execution_count": null,
   "id": "8cdede25",
   "metadata": {},
   "outputs": [],
   "source": [
    "#1min=60s 1hr=60*60s 1day=60*60*24=86400s. time.sleep(86400)-runs the function once a day\n",
    "\n",
    "while(True):\n",
    "    check_price()\n",
    "    time.sleep(86400)"
   ]
  }
 ],
 "metadata": {
  "kernelspec": {
   "display_name": "Python 3 (ipykernel)",
   "language": "python",
   "name": "python3"
  },
  "language_info": {
   "codemirror_mode": {
    "name": "ipython",
    "version": 3
   },
   "file_extension": ".py",
   "mimetype": "text/x-python",
   "name": "python",
   "nbconvert_exporter": "python",
   "pygments_lexer": "ipython3",
   "version": "3.11.7"
  }
 },
 "nbformat": 4,
 "nbformat_minor": 5
}
